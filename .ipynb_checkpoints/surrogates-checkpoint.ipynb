{
 "cells": [
  {
   "cell_type": "code",
   "execution_count": 1,
   "metadata": {},
   "outputs": [],
   "source": [
    "from scipy.io import arff\n",
    "import numpy as np\n",
    "import pandas as pd\n",
    "import os\n",
    "from sklearn.pipeline import Pipeline\n",
    "from sklearn.ensemble import RandomForestRegressor\n",
    "from sklearn.model_selection import train_test_split\n",
    "from sklearn.model_selection import cross_val_score, cross_val_predict\n",
    "from sklearn.metrics import make_scorer\n",
    "from collections import defaultdict\n",
    "from scipy.stats import rankdata\n",
    "import matplotlib.pyplot as plt\n",
    "from scipy.stats import pearsonr\n",
    "import sklearn\n",
    "from sklearn.linear_model import LinearRegression\n",
    "from sklearn.model_selection import RandomizedSearchCV\n",
    "from sklearn.preprocessing import PolynomialFeatures\n",
    "import pickle\n",
    "from sklearn.model_selection import KFold\n",
    "from sklearn.base import clone"
   ]
  },
  {
   "cell_type": "code",
   "execution_count": 2,
   "metadata": {},
   "outputs": [],
   "source": [
    "# utility functions\n",
    "def get_data(data, relevant_params):\n",
    "    task_ids = data[\"task_id\"].unique()\n",
    "    data = data[relevant_params + [\"task_id\"] + [\"predictive_accuracy\"]]\n",
    "    data_dict = defaultdict()\n",
    "    for task_id in task_ids:\n",
    "        X_task = data.loc[data[\"task_id\"] == task_id]\n",
    "        y_task = np.array(X_task[\"predictive_accuracy\"], dtype=np.float)\n",
    "        X_task.drop([\"predictive_accuracy\", \"task_id\"], 1, inplace=True)\n",
    "        categorical_names = X_task.select_dtypes(include=['object']).columns\n",
    "        categorical_ids = [X_task.columns.get_loc(colname) for colname in categorical_names]\n",
    "        data_dict[task_id] = (X_task.as_matrix(), y_task, categorical_ids)\n",
    "    return data_dict\n",
    "\n",
    "def precatn(task_id, model, X, y, kfolds=5, topn=5):\n",
    "    kf = KFold(n_splits=kfolds, random_state=42, shuffle=True)\n",
    "    splits = kf.split(X)\n",
    "    scores = []\n",
    "    for train_idx, test_idx in splits:\n",
    "        train_x, train_y = X[train_idx], y[train_idx]\n",
    "        test_x, test_y = X[test_idx], y[test_idx]\n",
    "        new_model = clone(model)\n",
    "        new_model.fit(train_x, train_y)\n",
    "        y_hat = new_model.predict(test_x)\n",
    "        y_hat_ranks = rankdata(y_hat, method=\"average\")\n",
    "        test_y_ranks = rankdata(test_y, method=\"average\")\n",
    "        y_hat_maxargs = y_hat_ranks.argsort()\n",
    "        test_y_maxargs = test_y_ranks.argsort()\n",
    "        cnt = 0\n",
    "        for entry in y_hat_maxargs[:topn]:\n",
    "            if entry in test_y_maxargs[:topn]:\n",
    "                cnt += 1\n",
    "        scores.append(cnt / topn)\n",
    "    mean_score = np.mean(scores)\n",
    "    print(\"Task %d; Precision at %d Score: %0.4f\" %(task_id, topn, mean_score))\n",
    "    return mean_score\n",
    "\n",
    "def custom_scorer(y, y_hat):\n",
    "    return pearsonr(y, y_hat)[0]\n",
    "\n",
    "def pearsonscore(task_id, model, X, y, kfolds=5):\n",
    "    # y_hat = cross_val_predict(clf, X, y, cv=kfolds)\n",
    "    # score = pearsonr(y, y_hat)[0]\n",
    "    scores = cross_val_score(model, X, y, cv=kfolds, scoring=make_scorer(custom_scorer))\n",
    "    score = scores.mean()\n",
    "    print(\"Task %d; Pearson Spearman Correlation: %0.4f (+/- %0.4f)\" %(task_id, score, scores.std() * 2))\n",
    "    return score\n",
    "\n",
    "def get_noise(task_id, model, X, y, kfolds=5):\n",
    "    kf = KFold(n_splits=kfolds, random_state=42, shuffle=True)\n",
    "    splits = kf.split(X)\n",
    "    y_hat_all = []\n",
    "    for train_idx, test_idx in splits:\n",
    "        train_x, train_y = X[train_idx], y[train_idx]\n",
    "        test_x, test_y = X[test_idx], y[test_idx]\n",
    "        new_model = clone(model)\n",
    "        new_model.fit(train_x, train_y)\n",
    "        y_hat = new_model.predict(test_x)\n",
    "        y_hat_all.append(y_hat)\n",
    "    scores = []\n",
    "    for y_hat, i in enumerate(y_hat_all):\n",
    "        for j in range(i + 1, topn):\n",
    "            scores.append(pearsonr(y_hat, y_hat_all[j]))\n",
    "    return np.mean(scores)"
   ]
  },
  {
   "cell_type": "code",
   "execution_count": 3,
   "metadata": {},
   "outputs": [
    {
     "name": "stderr",
     "output_type": "stream",
     "text": [
      "/Users/prernakashyap/anaconda3/lib/python3.6/site-packages/pandas/core/frame.py:3694: SettingWithCopyWarning: \n",
      "A value is trying to be set on a copy of a slice from a DataFrame\n",
      "\n",
      "See the caveats in the documentation: http://pandas.pydata.org/pandas-docs/stable/indexing.html#indexing-view-versus-copy\n",
      "  errors=errors)\n",
      "/Users/prernakashyap/anaconda3/lib/python3.6/site-packages/ipykernel_launcher.py:12: FutureWarning: Method .as_matrix will be removed in a future version. Use .values instead.\n",
      "  if sys.path[0] == '':\n"
     ]
    }
   ],
   "source": [
    "filename = \"./data/results__2000__svc__predictive_accuracy.arff\"\n",
    "relevant_params = [\"svc__C\", \"svc__gamma\"]\n",
    "data, meta = arff.loadarff(filename)\n",
    "df = pd.DataFrame(data)\n",
    "data_dict = get_data(df, relevant_params)"
   ]
  },
  {
   "cell_type": "code",
   "execution_count": 4,
   "metadata": {},
   "outputs": [],
   "source": [
    "class surrogate:\n",
    "\n",
    "    def __init__(self, ntrees=16):\n",
    "        self.models = {}\n",
    "        self.ntrees = ntrees\n",
    "\n",
    "    def train_model_rs(self, X, y, categoricals, task_id):\n",
    "        if task_id in self.models:\n",
    "            return self.models[task_id]\n",
    "        param_dist = {\"max_depth\": np.arange(3, 11),\n",
    "              \"max_features\": [1, 2],\n",
    "              \"n_estimators\" : [100],\n",
    "              \"min_samples_split\": np.arange(2, 11),\n",
    "              \"bootstrap\": [True, False],\n",
    "              \"criterion\": [\"mse\", \"mae\"]}\n",
    "        clf = Pipeline(\n",
    "            steps=[('encoder', sklearn.preprocessing.OneHotEncoder(\n",
    "                categorical_features=list(categoricals), handle_unknown='ignore')),\n",
    "                    ('random search', RandomizedSearchCV(RandomForestRegressor(n_estimators=self.ntrees), \n",
    "                                                         param_distributions=param_dist,\n",
    "                                                         n_iter=200, cv=5))])\n",
    "        clf.fit(X, y)\n",
    "        self.models[task_id] = clf\n",
    "        return clf\n",
    "    \n",
    "    def train_model(self, X, y, categoricals, task_id):\n",
    "        if task_id in self.models:\n",
    "            return self.models[task_id]\n",
    "        clf = Pipeline(\n",
    "            steps=[('encoder', sklearn.preprocessing.OneHotEncoder(\n",
    "                categorical_features=list(categoricals), handle_unknown='ignore')),\n",
    "                    ('classifier', RandomForestRegressor(n_estimators=self.ntrees))])\n",
    "        clf.fit(X, y)\n",
    "        self.models[task_id] = clf\n",
    "        return clf\n",
    "\n",
    "    def train_surrogate(self, data_dict):\n",
    "        task_ids = list(data_dict.keys())\n",
    "        scores = []\n",
    "        for task_id in task_ids:\n",
    "            X, y, categoricals = data_dict[task_id]\n",
    "            clf = self.train_model_rs(X, y, categoricals, task_id)\n",
    "            precatn_score = precatn(task_id, clf.named_steps[\"random search\"].best_estimator_, X, y, topn=200)\n",
    "            pearson_score = pearsonscore(task_id, clf.named_steps[\"random search\"].best_estimator_, X, y)\n",
    "            scores.append(np.array([precatn_score, pearson_score]))\n",
    "        return np.array(scores)"
   ]
  },
  {
   "cell_type": "code",
   "execution_count": null,
   "metadata": {},
   "outputs": [],
   "source": [
    "s = surrogate()\n",
    "surrogate_scores = s.train_surrogate(data_dict)"
   ]
  },
  {
   "cell_type": "code",
   "execution_count": 50,
   "metadata": {},
   "outputs": [],
   "source": [
    "with open('/Users/prernakashyap/Documents/autoML research/models/sm2.pkl', 'wb') as f:\n",
    "    pickle.dump(s.models, f)"
   ]
  },
  {
   "cell_type": "code",
   "execution_count": 5,
   "metadata": {},
   "outputs": [
    {
     "name": "stderr",
     "output_type": "stream",
     "text": [
      "/Users/prernakashyap/anaconda3/lib/python3.6/site-packages/sklearn/base.py:311: UserWarning: Trying to unpickle estimator OneHotEncoder from version 0.19.0 when using version 0.19.1. This might lead to breaking code or invalid results. Use at your own risk.\n",
      "  UserWarning)\n",
      "/Users/prernakashyap/anaconda3/lib/python3.6/site-packages/sklearn/base.py:311: UserWarning: Trying to unpickle estimator DecisionTreeRegressor from version 0.19.0 when using version 0.19.1. This might lead to breaking code or invalid results. Use at your own risk.\n",
      "  UserWarning)\n",
      "/Users/prernakashyap/anaconda3/lib/python3.6/site-packages/sklearn/base.py:311: UserWarning: Trying to unpickle estimator RandomForestRegressor from version 0.19.0 when using version 0.19.1. This might lead to breaking code or invalid results. Use at your own risk.\n",
      "  UserWarning)\n",
      "/Users/prernakashyap/anaconda3/lib/python3.6/site-packages/sklearn/base.py:311: UserWarning: Trying to unpickle estimator RandomizedSearchCV from version 0.19.0 when using version 0.19.1. This might lead to breaking code or invalid results. Use at your own risk.\n",
      "  UserWarning)\n",
      "/Users/prernakashyap/anaconda3/lib/python3.6/site-packages/sklearn/base.py:311: UserWarning: Trying to unpickle estimator Pipeline from version 0.19.0 when using version 0.19.1. This might lead to breaking code or invalid results. Use at your own risk.\n",
      "  UserWarning)\n"
     ]
    }
   ],
   "source": [
    "surrogate_models = pickle.load(open('/Users/prernakashyap/Documents/autoML research/models/sm2.pkl', 'rb'))"
   ]
  },
  {
   "cell_type": "code",
   "execution_count": 7,
   "metadata": {},
   "outputs": [
    {
     "name": "stdout",
     "output_type": "stream",
     "text": [
      "Task 3; Precision at 200 Score: 0.6970\n",
      "Task 3; Pearson Spearman Correlation: 0.5827 (+/- 0.1114)\n",
      "Task 6; Precision at 200 Score: 0.6780\n",
      "Task 6; Pearson Spearman Correlation: 0.5414 (+/- 0.0603)\n",
      "Task 11; Precision at 200 Score: 0.6700\n",
      "Task 11; Pearson Spearman Correlation: 0.2356 (+/- 0.0918)\n",
      "Task 12; Precision at 200 Score: 0.6650\n",
      "Task 12; Pearson Spearman Correlation: 0.5041 (+/- 0.0707)\n",
      "Task 14; Precision at 200 Score: 0.7490\n",
      "Task 14; Pearson Spearman Correlation: 0.5548 (+/- 0.1549)\n",
      "Task 15; Precision at 200 Score: 0.6240\n",
      "Task 15; Pearson Spearman Correlation: 0.4640 (+/- 0.1984)\n",
      "Task 16; Precision at 200 Score: 0.7110\n",
      "Task 16; Pearson Spearman Correlation: 0.4850 (+/- 0.1246)\n",
      "Task 18; Precision at 200 Score: 0.7210\n",
      "Task 18; Pearson Spearman Correlation: 0.3022 (+/- 0.0780)\n",
      "Task 20; Precision at 200 Score: 0.6920\n",
      "Task 20; Pearson Spearman Correlation: 0.5741 (+/- 0.0516)\n",
      "Task 21; Precision at 200 Score: 0.7960\n",
      "Task 21; Pearson Spearman Correlation: 0.5570 (+/- 0.0671)\n",
      "Task 22; Precision at 200 Score: 0.7090\n",
      "Task 22; Pearson Spearman Correlation: 0.5993 (+/- 0.1323)\n",
      "Task 23; Precision at 200 Score: 0.7110\n",
      "Task 23; Pearson Spearman Correlation: 0.3456 (+/- 0.0520)\n",
      "Task 24; Precision at 200 Score: 0.6700\n",
      "Task 24; Pearson Spearman Correlation: 0.4678 (+/- 0.1351)\n",
      "Task 28; Precision at 200 Score: 0.6950\n",
      "Task 28; Pearson Spearman Correlation: 0.5659 (+/- 0.1280)\n",
      "Task 29; Precision at 200 Score: 0.7730\n",
      "Task 29; Pearson Spearman Correlation: 0.5707 (+/- 0.0472)\n",
      "Task 31; Precision at 200 Score: 0.6040\n",
      "Task 31; Pearson Spearman Correlation: 0.2591 (+/- 0.0598)\n",
      "Task 32; Precision at 200 Score: 0.6500\n",
      "Task 32; Pearson Spearman Correlation: 0.4332 (+/- 0.0973)\n",
      "Task 36; Precision at 200 Score: 0.6380\n",
      "Task 36; Pearson Spearman Correlation: 0.2737 (+/- 0.1113)\n",
      "Task 37; Precision at 200 Score: 0.7660\n",
      "Task 37; Pearson Spearman Correlation: 0.3690 (+/- 0.0702)\n",
      "Task 41; Precision at 200 Score: 0.8080\n",
      "Task 41; Pearson Spearman Correlation: 0.6990 (+/- 0.0502)\n",
      "Task 43; Precision at 200 Score: 0.7460\n",
      "Task 43; Pearson Spearman Correlation: 0.4223 (+/- 0.0880)\n",
      "Task 45; Precision at 200 Score: 0.7560\n",
      "Task 45; Pearson Spearman Correlation: 0.5934 (+/- 0.0575)\n",
      "Task 49; Precision at 200 Score: 0.7940\n",
      "Task 49; Pearson Spearman Correlation: 0.5694 (+/- 0.0689)\n",
      "Task 53; Precision at 200 Score: 0.7180\n",
      "Task 53; Pearson Spearman Correlation: 0.5458 (+/- 0.0278)\n",
      "Task 58; Precision at 200 Score: 0.7360\n",
      "Task 58; Pearson Spearman Correlation: 0.4365 (+/- 0.0949)\n",
      "Task 219; Precision at 200 Score: 0.5930\n",
      "Task 219; Pearson Spearman Correlation: 0.2907 (+/- 0.1024)\n",
      "Task 2074; Precision at 200 Score: 0.6400\n",
      "Task 2074; Pearson Spearman Correlation: 0.4374 (+/- 0.0881)\n",
      "Task 2079; Precision at 200 Score: 0.7720\n",
      "Task 2079; Pearson Spearman Correlation: 0.5734 (+/- 0.0573)\n",
      "Task 3021; Precision at 200 Score: 0.7010\n",
      "Task 3021; Pearson Spearman Correlation: 0.2590 (+/- 0.0441)\n",
      "Task 3022; Precision at 200 Score: 0.7190\n",
      "Task 3022; Pearson Spearman Correlation: 0.3899 (+/- 0.0922)\n",
      "Task 3481; Precision at 200 Score: 0.6790\n",
      "Task 3481; Pearson Spearman Correlation: 0.5081 (+/- 0.1438)\n",
      "Task 3485; Precision at 200 Score: 0.6610\n",
      "Task 3485; Pearson Spearman Correlation: 0.4118 (+/- 0.0443)\n",
      "Task 3492; Precision at 200 Score: 0.6520\n",
      "Task 3492; Pearson Spearman Correlation: 0.3836 (+/- 0.0969)\n",
      "Task 3493; Precision at 200 Score: 0.6170\n",
      "Task 3493; Pearson Spearman Correlation: 0.3366 (+/- 0.0767)\n",
      "Task 3494; Precision at 200 Score: 0.7250\n",
      "Task 3494; Pearson Spearman Correlation: 0.7317 (+/- 0.0621)\n",
      "Task 3510; Precision at 200 Score: 0.6920\n",
      "Task 3510; Pearson Spearman Correlation: 0.6070 (+/- 0.0881)\n",
      "Task 3512; Precision at 200 Score: 0.7280\n",
      "Task 3512; Pearson Spearman Correlation: 0.4729 (+/- 0.0966)\n",
      "Task 3543; Precision at 200 Score: 0.7570\n",
      "Task 3543; Pearson Spearman Correlation: 0.5941 (+/- 0.0708)\n",
      "Task 3549; Precision at 200 Score: 0.8140\n",
      "Task 3549; Pearson Spearman Correlation: 0.4936 (+/- 0.0363)\n",
      "Task 3560; Precision at 200 Score: 0.6690\n",
      "Task 3560; Pearson Spearman Correlation: 0.3659 (+/- 0.0788)\n",
      "Task 3561; Precision at 200 Score: 0.5450\n",
      "Task 3561; Pearson Spearman Correlation: 0.3209 (+/- 0.1008)\n",
      "Task 3567; Precision at 200 Score: 0.8010\n",
      "Task 3567; Pearson Spearman Correlation: 0.7337 (+/- 0.0683)\n"
     ]
    }
   ],
   "source": [
    "surrogate_scores = []\n",
    "task_ids = list(data_dict.keys())\n",
    "for task_id in task_ids:\n",
    "    X, y, categoricals = data_dict[task_id]\n",
    "    clf = surrogate_models.models[task_id].named_steps[\"random search\"].best_estimator_\n",
    "    precatn_score = precatn(task_id, clf, X, y, topn=200)\n",
    "    pearson_score = pearsonscore(task_id, clf, X, y)\n",
    "    surrogate_scores.append(np.array([precatn_score, pearson_score]))\n",
    "surrogate_scores = np.array(surrogate_scores)"
   ]
  },
  {
   "cell_type": "code",
   "execution_count": 8,
   "metadata": {},
   "outputs": [],
   "source": [
    "# y = alpha * hyperparameter_1 ^ 2 + beta * hyperparameter_2 ^ 2 + gamma * hyperparameter_1 * hyperparameter_2 + delta\n",
    "# hyperparameter_1 = gamma\n",
    "# hyperparameter_2 = complexity (C)\n",
    "class simplified_surrogate:\n",
    "\n",
    "    def __init__(self):\n",
    "        self.models = {}\n",
    "\n",
    "    def train_model(self, data_dict):\n",
    "        scores = []\n",
    "        for task_id in data_dict:\n",
    "            X, y, _ = data_dict[task_id]\n",
    "            poly = PolynomialFeatures(2)\n",
    "            X = poly.fit_transform(X)\n",
    "            X = np.delete(X, 1, 1)\n",
    "            X = np.delete(X, 2, 1)\n",
    "            model = LinearRegression()\n",
    "            model.fit(X, y)\n",
    "            self.models[task_id] = model\n",
    "            precatn_score = precatn(task_id, model, X, y, topn=200)\n",
    "            pearson_score = pearsonscore(task_id, model, X, y)\n",
    "            scores.append(np.array([precatn_score, pearson_score]))\n",
    "        return np.array(scores)\n"
   ]
  },
  {
   "cell_type": "code",
   "execution_count": 9,
   "metadata": {},
   "outputs": [
    {
     "name": "stdout",
     "output_type": "stream",
     "text": [
      "Task 3; Precision at 200 Score: 0.4470\n",
      "Task 3; Pearson Spearman Correlation: 0.2470 (+/- 0.1423)\n",
      "Task 6; Precision at 200 Score: 0.4950\n",
      "Task 6; Pearson Spearman Correlation: 0.1489 (+/- 0.0988)\n",
      "Task 11; Precision at 200 Score: 0.4390\n",
      "Task 11; Pearson Spearman Correlation: 0.0665 (+/- 0.0601)\n",
      "Task 12; Precision at 200 Score: 0.6470\n",
      "Task 12; Pearson Spearman Correlation: 0.3519 (+/- 0.1232)\n",
      "Task 14; Precision at 200 Score: 0.6800\n",
      "Task 14; Pearson Spearman Correlation: 0.4443 (+/- 0.1841)\n",
      "Task 15; Precision at 200 Score: 0.3900\n",
      "Task 15; Pearson Spearman Correlation: 0.0818 (+/- 0.0577)\n",
      "Task 16; Precision at 200 Score: 0.6680\n",
      "Task 16; Pearson Spearman Correlation: 0.3616 (+/- 0.1153)\n",
      "Task 18; Precision at 200 Score: 0.4980\n",
      "Task 18; Pearson Spearman Correlation: 0.1940 (+/- 0.0785)\n",
      "Task 20; Precision at 200 Score: 0.6530\n",
      "Task 20; Pearson Spearman Correlation: 0.3400 (+/- 0.1157)\n",
      "Task 21; Precision at 200 Score: 0.4540\n",
      "Task 21; Pearson Spearman Correlation: 0.0630 (+/- 0.0998)\n",
      "Task 22; Precision at 200 Score: 0.6270\n",
      "Task 22; Pearson Spearman Correlation: 0.5499 (+/- 0.1054)\n",
      "Task 23; Precision at 200 Score: 0.4990\n",
      "Task 23; Pearson Spearman Correlation: 0.2203 (+/- 0.0264)\n",
      "Task 24; Precision at 200 Score: 0.4500\n",
      "Task 24; Pearson Spearman Correlation: 0.2931 (+/- 0.0962)\n",
      "Task 28; Precision at 200 Score: 0.5980\n",
      "Task 28; Pearson Spearman Correlation: 0.3783 (+/- 0.0929)\n",
      "Task 29; Precision at 200 Score: 0.6160\n",
      "Task 29; Pearson Spearman Correlation: 0.2460 (+/- 0.0265)\n",
      "Task 31; Precision at 200 Score: 0.4750\n",
      "Task 31; Pearson Spearman Correlation: 0.2103 (+/- 0.0449)\n",
      "Task 32; Precision at 200 Score: 0.5030\n",
      "Task 32; Pearson Spearman Correlation: 0.1600 (+/- 0.0644)\n",
      "Task 36; Precision at 200 Score: 0.4970\n",
      "Task 36; Pearson Spearman Correlation: 0.1365 (+/- 0.1042)\n",
      "Task 37; Precision at 200 Score: 0.5710\n",
      "Task 37; Pearson Spearman Correlation: 0.2162 (+/- 0.0676)\n",
      "Task 41; Precision at 200 Score: 0.4920\n",
      "Task 41; Pearson Spearman Correlation: 0.2396 (+/- 0.0680)\n",
      "Task 43; Precision at 200 Score: 0.6390\n",
      "Task 43; Pearson Spearman Correlation: 0.0899 (+/- 0.0752)\n",
      "Task 45; Precision at 200 Score: 0.6470\n",
      "Task 45; Pearson Spearman Correlation: 0.2602 (+/- 0.0867)\n",
      "Task 49; Precision at 200 Score: 0.4530\n",
      "Task 49; Pearson Spearman Correlation: 0.1268 (+/- 0.0545)\n",
      "Task 53; Precision at 200 Score: 0.5430\n",
      "Task 53; Pearson Spearman Correlation: 0.1788 (+/- 0.0568)\n",
      "Task 58; Precision at 200 Score: 0.6590\n",
      "Task 58; Pearson Spearman Correlation: 0.2728 (+/- 0.1293)\n",
      "Task 219; Precision at 200 Score: 0.5020\n",
      "Task 219; Pearson Spearman Correlation: 0.1354 (+/- 0.0961)\n",
      "Task 2074; Precision at 200 Score: 0.5610\n",
      "Task 2074; Pearson Spearman Correlation: 0.2379 (+/- 0.0705)\n",
      "Task 2079; Precision at 200 Score: 0.5400\n",
      "Task 2079; Pearson Spearman Correlation: 0.2229 (+/- 0.0357)\n",
      "Task 3021; Precision at 200 Score: 0.4320\n",
      "Task 3021; Pearson Spearman Correlation: 0.0860 (+/- 0.0679)\n",
      "Task 3022; Precision at 200 Score: 0.6150\n",
      "Task 3022; Pearson Spearman Correlation: 0.0344 (+/- 0.1179)\n",
      "Task 3481; Precision at 200 Score: 0.6850\n",
      "Task 3481; Pearson Spearman Correlation: 0.2245 (+/- 0.0768)\n",
      "Task 3485; Precision at 200 Score: 0.6140\n",
      "Task 3485; Pearson Spearman Correlation: 0.1183 (+/- 0.0734)\n",
      "Task 3492; Precision at 200 Score: 0.5860\n",
      "Task 3492; Pearson Spearman Correlation: 0.0839 (+/- 0.0525)\n",
      "Task 3493; Precision at 200 Score: 0.5850\n",
      "Task 3493; Pearson Spearman Correlation: 0.1990 (+/- 0.1045)\n",
      "Task 3494; Precision at 200 Score: 0.6140\n",
      "Task 3494; Pearson Spearman Correlation: 0.1075 (+/- 0.0858)\n",
      "Task 3510; Precision at 200 Score: 0.5200\n",
      "Task 3510; Pearson Spearman Correlation: 0.2595 (+/- 0.1171)\n",
      "Task 3512; Precision at 200 Score: 0.6370\n",
      "Task 3512; Pearson Spearman Correlation: 0.3864 (+/- 0.1004)\n",
      "Task 3543; Precision at 200 Score: 0.5030\n",
      "Task 3543; Pearson Spearman Correlation: 0.0710 (+/- 0.0403)\n",
      "Task 3549; Precision at 200 Score: 0.7020\n",
      "Task 3549; Pearson Spearman Correlation: 0.1621 (+/- 0.0855)\n",
      "Task 3560; Precision at 200 Score: 0.4120\n",
      "Task 3560; Pearson Spearman Correlation: 0.2107 (+/- 0.1148)\n",
      "Task 3561; Precision at 200 Score: 0.5030\n",
      "Task 3561; Pearson Spearman Correlation: 0.1771 (+/- 0.1354)\n",
      "Task 3567; Precision at 200 Score: 0.5130\n",
      "Task 3567; Pearson Spearman Correlation: 0.1966 (+/- 0.0786)\n"
     ]
    }
   ],
   "source": [
    "s_ = simplified_surrogate()\n",
    "simplified_surrogate_scores = s_.train_model(data_dict)"
   ]
  },
  {
   "cell_type": "code",
   "execution_count": 17,
   "metadata": {},
   "outputs": [],
   "source": [
    "def draw_plot(data, offset,edge_color, fill_color):\n",
    "    pos = np.arange(1) + offset \n",
    "    bp = ax.boxplot(data, positions= pos, widths=0.3, patch_artist=True, manage_xticks=False)\n",
    "    for element in ['boxes', 'whiskers', 'fliers', 'medians', 'caps']:\n",
    "        plt.setp(bp[element], color=edge_color)\n",
    "    for patch in bp['boxes']:\n",
    "        patch.set(facecolor=fill_color)"
   ]
  },
  {
   "cell_type": "markdown",
   "metadata": {},
   "source": [
    "# Boxplot for pearson correlation measure"
   ]
  },
  {
   "cell_type": "code",
   "execution_count": 18,
   "metadata": {},
   "outputs": [
    {
     "data": {
      "image/png": "[encoded data removed]",
      "text/plain": [
       "<Figure size 432x288 with 1 Axes>"
      ]
     },
     "metadata": {},
     "output_type": "display_data"
    }
   ],
   "source": [
    "fig, ax = plt.subplots()\n",
    "draw_plot(surrogate_scores[:,0], -0.2, \"tomato\", \"white\")\n",
    "draw_plot(simplified_surrogate_scores[:,0], +0.2, \"skyblue\", \"white\")\n",
    "plt.show()\n",
    "plt.close()"
   ]
  },
  {
   "cell_type": "markdown",
   "metadata": {},
   "source": [
    "# Boxplot for precision at 200 measure"
   ]
  },
  {
   "cell_type": "code",
   "execution_count": 19,
   "metadata": {},
   "outputs": [
    {
     "data": {
      "image/png": "[encoded data removed]",
      "text/plain": [
       "<Figure size 432x288 with 1 Axes>"
      ]
     },
     "metadata": {},
     "output_type": "display_data"
    }
   ],
   "source": [
    "fig, ax = plt.subplots()\n",
    "draw_plot(surrogate_scores[:,1], -0.2, \"tomato\", \"white\")\n",
    "draw_plot(simplified_surrogate_scores[:,1], +0.2, \"skyblue\", \"white\")\n",
    "plt.show()\n",
    "plt.close()"
   ]
  },
  {
   "cell_type": "markdown",
   "metadata": {},
   "source": [
    "# TODO\n",
    "- RF, decision tree, gradient boosting\n",
    "- use MSE\n",
    "- leave one out"
   ]
  },
  {
   "cell_type": "code",
   "execution_count": null,
   "metadata": {},
   "outputs": [],
   "source": [
    "lentask = []\n",
    "for task_id in task_ids:\n",
    "  lentask.append(data_dict[task_id])  "
   ]
  }
 ],
 "metadata": {
  "kernelspec": {
   "display_name": "Python 3",
   "language": "python",
   "name": "python3"
  },
  "language_info": {
   "codemirror_mode": {
    "name": "ipython",
    "version": 3
   },
   "file_extension": ".py",
   "mimetype": "text/x-python",
   "name": "python",
   "nbconvert_exporter": "python",
   "pygments_lexer": "ipython3",
   "version": "3.6.5"
  }
 },
 "nbformat": 4,
 "nbformat_minor": 2
}
