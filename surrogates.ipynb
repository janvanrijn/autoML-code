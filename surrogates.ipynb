{
 "cells": [
  {
   "cell_type": "code",
   "execution_count": 1,
   "metadata": {},
   "outputs": [],
   "source": [
    "from scipy.io import arff\n",
    "import numpy as np\n",
    "import pandas as pd\n",
    "import os\n",
    "from sklearn.pipeline import Pipeline\n",
    "from sklearn.externals import joblib\n",
    "from sklearn.ensemble import RandomForestRegressor\n",
    "from sklearn.model_selection import train_test_split\n",
    "from sklearn.model_selection import cross_val_score, cross_val_predict\n",
    "from sklearn.metrics import make_scorer\n",
    "from collections import defaultdict\n",
    "from scipy.stats import rankdata\n",
    "import matplotlib.pyplot as plt\n",
    "from scipy.optimize import curve_fit\n",
    "from scipy.stats import pearsonr\n",
    "import sklearn\n",
    "from sklearn.linear_model import LinearRegression\n",
    "from sklearn.preprocessing import PolynomialFeatures"
   ]
  },
  {
   "cell_type": "code",
   "execution_count": 2,
   "metadata": {},
   "outputs": [],
   "source": [
    "class surrogate:\n",
    "\n",
    "    def __init__(self, ntrees=16):\n",
    "        self.models = {}\n",
    "        self.ntrees = ntrees\n",
    "\n",
    "    def get_data(self, data, relevant_params):\n",
    "        task_ids = data[\"task_id\"].unique()\n",
    "        data = data[relevant_params + [\"task_id\"] + [\"y\"]]\n",
    "        self.data_dict = defaultdict()\n",
    "        for task_id in task_ids:\n",
    "            X_task = data.loc[data[\"task_id\"] == task_id]\n",
    "            y_task = np.array(X_task[\"y\"], dtype=np.float)\n",
    "            X_task.drop([\"y\", \"task_id\"], 1, inplace=True)\n",
    "            categorical_names = X_task.select_dtypes(include=['object']).columns\n",
    "            categorical_ids = [X_task.columns.get_loc(colname) for colname in categorical_names]\n",
    "            self.data_dict[task_id] = (X_task.as_matrix(), y_task, categorical_ids)\n",
    "        return task_ids\n",
    "\n",
    "    def split_data(self, X, y, test_size = 0.15, seed = 42):\n",
    "        X_train, X_test, y_train, y_test = train_test_split(X, y, test_size=test_size, random_state=seed)\n",
    "        return X_train, X_test, y_train, y_test\n",
    "\n",
    "    def train_model(self, X, y, categoricals, task_id):\n",
    "        if task_id in self.models:\n",
    "            return self.models[task_id]\n",
    "        clf = Pipeline(\n",
    "            steps=[('encoder', sklearn.preprocessing.OneHotEncoder(\n",
    "                categorical_features=list(categoricals), handle_unknown='ignore')),\n",
    "                    ('classifier', RandomForestRegressor(n_estimators=self.ntrees))])\n",
    "        clf.fit(X, y)\n",
    "        self.models[task_id] = clf\n",
    "        return clf\n",
    "\n",
    "    def average_rank(self, val_task_id):\n",
    "        X_val, y_val, cat_val = self.data_dict[val_task_id]\n",
    "        total_ranks = np.zeros(len(X_val))\n",
    "        for task_id in self.data_dict:\n",
    "            if task_id == val_task_id:\n",
    "                continue\n",
    "            X_train, y_train, cat_train = self.data_dict[task_id]\n",
    "            clf = self.train_model(X_train, y_train, cat_train, task_id)\n",
    "            y_val_hat = clf.predict(X_val)\n",
    "            task_ranks = rankdata(y_val_hat, method='average')\n",
    "            total_ranks = np.add(total_ranks, task_ranks)\n",
    "        total_ranks = np.divide(total_ranks, len(X_val))\n",
    "        return total_ranks\n",
    "\n",
    "    def custom_scorer(self, y, y_hat):\n",
    "        return pearsonr(y, y_hat)[0]\n",
    "\n",
    "    def train_surrogate(self, filename=\"libsvm_svc.arff\", relevant_params=[\"C\", \"gamma\"]):\n",
    "        data, meta = arff.loadarff(filename)\n",
    "        df = pd.DataFrame(data)\n",
    "        #print(\"Printing sample data\")\n",
    "        #print(df[:5])\n",
    "        #print(\"Data info\")\n",
    "        #print(meta)\n",
    "        task_ids = self.get_data(df, relevant_params)\n",
    "        pearson_scores = []\n",
    "        for task_id in task_ids:\n",
    "            X, y, categoricals = self.data_dict[task_id]\n",
    "            clf = self.train_model(X, y, categoricals, task_id)\n",
    "            y_hat = cross_val_predict(clf, X, y, cv=5)\n",
    "            score = pearsonr(y, y_hat)[0]\n",
    "            pearson_scores.append(score)\n",
    "            # scores = cross_val_score(clf, X, y, cv=5, scoring=make_scorer(self.custom_scorer))\n",
    "            # mean_score = scores.mean()\n",
    "            # spearman = pearsonr(y, y_hat)\n",
    "            # pearson_scores.append(mean_score)\n",
    "            # print(\"Task %d; Pearson Spearman Correlation: %0.4f (+/- %0.4f)\" %(task_id, mean_score, scores.std() * 2))\n",
    "            average_rank = self.average_rank(task_id)\n",
    "            ar_spearman = pearsonr(y, average_rank)\n",
    "            # print(\"Task %d; Average Rank: Pearson Spearman Correlation: %f\" % (task_id, ar_spearman[0]))\n",
    "        return pearson_scores\n"
   ]
  },
  {
   "cell_type": "code",
   "execution_count": 3,
   "metadata": {},
   "outputs": [
    {
     "name": "stderr",
     "output_type": "stream",
     "text": [
      "/Users/prernakashyap/anaconda3/envs/gensim_env/lib/python3.6/site-packages/pandas/core/frame.py:3694: SettingWithCopyWarning: \n",
      "A value is trying to be set on a copy of a slice from a DataFrame\n",
      "\n",
      "See the caveats in the documentation: http://pandas.pydata.org/pandas-docs/stable/indexing.html#indexing-view-versus-copy\n",
      "  errors=errors)\n",
      "/Users/prernakashyap/anaconda3/envs/gensim_env/lib/python3.6/site-packages/ipykernel_launcher.py:17: FutureWarning: Method .as_matrix will be removed in a future version. Use .values instead.\n"
     ]
    }
   ],
   "source": [
    "s = surrogate()\n",
    "surrogate_scores = s.train_surrogate()"
   ]
  },
  {
   "cell_type": "code",
   "execution_count": 4,
   "metadata": {},
   "outputs": [],
   "source": [
    "# y = alpha * hyperparameter_1 ^ 2 + beta * hyperparameter_2 ^ 2 + gamma * hyperparameter_1 * hyperparameter_2 + delta\n",
    "# hyperparameter_1 = gamma\n",
    "# hyperparameter_2 = complexity (C)\n",
    "class simplified_surrogate:\n",
    "\n",
    "    def __init__(self, surrogate):\n",
    "        self.surrogate = surrogate\n",
    "        self.models = {}\n",
    "\n",
    "    def train_model(self):\n",
    "        pearson_scores = []\n",
    "        for task_id in self.surrogate.data_dict:\n",
    "            X, y, _ = self.surrogate.data_dict[task_id]\n",
    "            X = np.append(X ** 2, np.ones(X.shape), axis = 1)\n",
    "            model = LinearRegression()\n",
    "            model.fit(X, y)\n",
    "            # coeff = model.coef_\n",
    "            self.models[task_id] = model\n",
    "            y_hat = cross_val_predict(model, X, y, cv=5)\n",
    "            score = pearsonr(y, y_hat)[0]\n",
    "            # score = pearsonr(y, model.predict(X))[0]\n",
    "            pearson_scores.append(score)\n",
    "            # print(\"Task %d; Pearson Spearman Correlation: %f\" % (task_id, score))\n",
    "        return pearson_scores\n",
    "\n",
    "    def plot_curve(self, task_id):\n",
    "        X, y, _ = self.surrogate.data_dict[task_id]\n",
    "        model = self.models[task_id]\n",
    "        y_hat = model.predict(np.append(X, X ** 2, axis = 1))\n",
    "        plt.plot(y_hat, c=\"blue\")\n",
    "        plt.plot(y, c=\"red\")\n",
    "        plt.axis(\"equal\")"
   ]
  },
  {
   "cell_type": "code",
   "execution_count": 5,
   "metadata": {},
   "outputs": [],
   "source": [
    "s_ = simplified_surrogate(s)\n",
    "simplified_surrogate_scores = s_.train_model()"
   ]
  },
  {
   "cell_type": "code",
   "execution_count": 6,
   "metadata": {},
   "outputs": [
    {
     "data": {
      "image/png": "[encoded data removed]",
      "text/plain": [
       "<Figure size 432x288 with 1 Axes>"
      ]
     },
     "metadata": {},
     "output_type": "display_data"
    }
   ],
   "source": [
    "plt.plot(surrogate_scores, color=\"blue\", label=\"surrogate\")\n",
    "plt.plot(simplified_surrogate_scores, color=\"red\", label=\"simplified surrogate\")\n",
    "plt.legend()\n",
    "plt.show()"
   ]
  },
  {
   "cell_type": "code",
   "execution_count": 7,
   "metadata": {},
   "outputs": [],
   "source": [
    "def draw_plot(data, offset,edge_color, fill_color):\n",
    "    pos = np.arange(1) + offset \n",
    "    bp = ax.boxplot(data, positions= pos, widths=0.3, patch_artist=True, manage_xticks=False)\n",
    "    for element in ['boxes', 'whiskers', 'fliers', 'medians', 'caps']:\n",
    "        plt.setp(bp[element], color=edge_color)\n",
    "    for patch in bp['boxes']:\n",
    "        patch.set(facecolor=fill_color)"
   ]
  },
  {
   "cell_type": "code",
   "execution_count": 8,
   "metadata": {},
   "outputs": [
    {
     "data": {
      "image/png": "[encoded data removed]",
      "text/plain": [
       "<Figure size 432x288 with 1 Axes>"
      ]
     },
     "metadata": {},
     "output_type": "display_data"
    }
   ],
   "source": [
    "fig, ax = plt.subplots()\n",
    "draw_plot(surrogate_scores, -0.2, \"tomato\", \"white\")\n",
    "draw_plot(simplified_surrogate_scores, +0.2, \"skyblue\", \"white\")\n",
    "plt.show()\n",
    "plt.close()"
   ]
  },
  {
   "cell_type": "markdown",
   "metadata": {},
   "source": [
    "TODO<br>\n",
    "-> tune RF hyperparameters (no. of trees, no. of features per node)<br>\n",
    "-> use random search for <br>\n",
    "-> sklearnbot openml - generating more data<br>\n",
    "-> Bernd Bischl, Carlos Soares<br>\n",
    "-> Expected median (~0.5-0.6)<br>"
   ]
  },
  {
   "cell_type": "code",
   "execution_count": null,
   "metadata": {},
   "outputs": [],
   "source": []
  }
 ],
 "metadata": {
  "kernelspec": {
   "display_name": "Python 3",
   "language": "python",
   "name": "python3"
  },
  "language_info": {
   "codemirror_mode": {
    "name": "ipython",
    "version": 3
   },
   "file_extension": ".py",
   "mimetype": "text/x-python",
   "name": "python",
   "nbconvert_exporter": "python",
   "pygments_lexer": "ipython3",
   "version": "3.6.5"
  }
 },
 "nbformat": 4,
 "nbformat_minor": 2
}
