{
 "cells": [
  {
   "cell_type": "code",
   "execution_count": 1,
   "metadata": {},
   "outputs": [],
   "source": [
    "from scipy.io import arff\n",
    "import numpy as np\n",
    "import pandas as pd\n",
    "import os\n",
    "from sklearn.pipeline import Pipeline\n",
    "from sklearn.ensemble import RandomForestRegressor\n",
    "from sklearn.model_selection import train_test_split\n",
    "from sklearn.model_selection import cross_val_score, cross_val_predict\n",
    "from sklearn.metrics import make_scorer\n",
    "from collections import defaultdict\n",
    "from scipy.stats import rankdata\n",
    "import matplotlib.pyplot as plt\n",
    "from scipy.stats import pearsonr\n",
    "import sklearn\n",
    "from sklearn.linear_model import LinearRegression\n",
    "from sklearn.model_selection import RandomizedSearchCV\n",
    "import pickle"
   ]
  },
  {
   "cell_type": "code",
   "execution_count": 6,
   "metadata": {},
   "outputs": [],
   "source": [
    "class surrogate:\n",
    "\n",
    "    def __init__(self, ntrees=16):\n",
    "        self.models = {}\n",
    "        self.ntrees = ntrees\n",
    "\n",
    "    def get_data(self, data, relevant_params):\n",
    "        task_ids = data[\"task_id\"].unique()\n",
    "        data = data[relevant_params + [\"task_id\"] + [\"y\"]]\n",
    "        self.data_dict = defaultdict()\n",
    "        for task_id in task_ids:\n",
    "            X_task = data.loc[data[\"task_id\"] == task_id]\n",
    "            y_task = np.array(X_task[\"y\"], dtype=np.float)\n",
    "            X_task.drop([\"y\", \"task_id\"], 1, inplace=True)\n",
    "            categorical_names = X_task.select_dtypes(include=['object']).columns\n",
    "            categorical_ids = [X_task.columns.get_loc(colname) for colname in categorical_names]\n",
    "            self.data_dict[task_id] = (X_task.as_matrix(), y_task, categorical_ids)\n",
    "        return task_ids\n",
    "\n",
    "    def split_data(self, X, y, test_size = 0.15, seed = 42):\n",
    "        X_train, X_test, y_train, y_test = train_test_split(X, y, test_size=test_size, random_state=seed)\n",
    "        return X_train, X_test, y_train, y_test\n",
    "\n",
    "    def train_model(self, X, y, categoricals, task_id):\n",
    "        if task_id in self.models:\n",
    "            return self.models[task_id]\n",
    "        param_dist = {\"max_depth\": [3, None],\n",
    "              \"max_features\": [1, 2],\n",
    "              \"n_estimators\" : np.arange(10, 65),\n",
    "              \"min_samples_split\": np.arange(2, 11),\n",
    "              \"bootstrap\": [True, False],\n",
    "              \"criterion\": [\"mse\", \"mae\"]}\n",
    "        clf = Pipeline(\n",
    "            steps=[('encoder', sklearn.preprocessing.OneHotEncoder(\n",
    "                categorical_features=list(categoricals), handle_unknown='ignore')),\n",
    "                    ('random search', RandomizedSearchCV(RandomForestRegressor(n_estimators=self.ntrees), \n",
    "                                                         param_distributions=param_dist,\n",
    "                                                         n_iter=200, cv=5))])\n",
    "        clf.fit(X, y)\n",
    "        self.models[task_id] = clf\n",
    "        return clf\n",
    "\n",
    "    def average_rank(self, val_task_id):\n",
    "        X_val, y_val, cat_val = self.data_dict[val_task_id]\n",
    "        total_ranks = np.zeros(len(X_val))\n",
    "        for task_id in self.data_dict:\n",
    "            if task_id == val_task_id:\n",
    "                continue\n",
    "            X_train, y_train, cat_train = self.data_dict[task_id]\n",
    "            clf = self.train_model(X_train, y_train, cat_train, task_id)\n",
    "            y_val_hat = clf.predict(X_val)\n",
    "            task_ranks = rankdata(y_val_hat, method='average')\n",
    "            total_ranks = np.add(total_ranks, task_ranks)\n",
    "        total_ranks = np.divide(total_ranks, len(X_val))\n",
    "        return total_ranks\n",
    "\n",
    "    def custom_scorer(self, y, y_hat):\n",
    "        return pearsonr(y, y_hat)[0]\n",
    "\n",
    "    def train_surrogate(self, filename=\"libsvm_svc.arff\", relevant_params=[\"C\", \"gamma\"]):\n",
    "        data, meta = arff.loadarff(filename)\n",
    "        df = pd.DataFrame(data)\n",
    "        task_ids = self.get_data(df, relevant_params)\n",
    "        pearson_scores = []\n",
    "        for task_id in task_ids:\n",
    "            X, y, categoricals = self.data_dict[task_id]\n",
    "            clf = self.train_model(X, y, categoricals, task_id)\n",
    "            # y_hat = cross_val_predict(clf, X, y, cv=5)\n",
    "            # score = pearsonr(y, y_hat)[0]\n",
    "            # pearson_scores.append(score)\n",
    "            scores = cross_val_score(clf, X, y, cv=5, scoring=make_scorer(self.custom_scorer))\n",
    "            mean_score = scores.mean()\n",
    "            pearson_scores.append(mean_score)\n",
    "            print(\"Task %d; Pearson Spearman Correlation: %0.4f (+/- %0.4f)\" %(task_id, mean_score, scores.std() * 2))\n",
    "            # average_rank = self.average_rank(task_id)\n",
    "            # ar_spearman = pearsonr(y, average_rank)\n",
    "            # print(\"Task %d; Average Rank: Pearson Spearman Correlation: %f\" % (task_id, ar_spearman[0]))\n",
    "        return pearson_scores\n"
   ]
  },
  {
   "cell_type": "code",
   "execution_count": 7,
   "metadata": {},
   "outputs": [
    {
     "name": "stderr",
     "output_type": "stream",
     "text": [
      "/Users/prernakashyap/anaconda3/envs/gensim_env/lib/python3.6/site-packages/pandas/core/frame.py:3694: SettingWithCopyWarning: \n",
      "A value is trying to be set on a copy of a slice from a DataFrame\n",
      "\n",
      "See the caveats in the documentation: http://pandas.pydata.org/pandas-docs/stable/indexing.html#indexing-view-versus-copy\n",
      "  errors=errors)\n",
      "/Users/prernakashyap/anaconda3/envs/gensim_env/lib/python3.6/site-packages/ipykernel_launcher.py:17: FutureWarning: Method .as_matrix will be removed in a future version. Use .values instead.\n"
     ]
    },
    {
     "name": "stdout",
     "output_type": "stream",
     "text": [
      "Task 3; Pearson Spearman Correlation: 0.3939 (+/- 0.1334)\n",
      "Task 6; Pearson Spearman Correlation: 0.3391 (+/- 0.1801)\n",
      "Task 11; Pearson Spearman Correlation: 0.3881 (+/- 0.1373)\n",
      "Task 12; Pearson Spearman Correlation: 0.3518 (+/- 0.2298)\n",
      "Task 14; Pearson Spearman Correlation: 0.4712 (+/- 0.0953)\n",
      "Task 15; Pearson Spearman Correlation: 0.4799 (+/- 0.1544)\n",
      "Task 16; Pearson Spearman Correlation: 0.6331 (+/- 0.1328)\n",
      "Task 18; Pearson Spearman Correlation: 0.5059 (+/- 0.1273)\n",
      "Task 20; Pearson Spearman Correlation: 0.6038 (+/- 0.1031)\n",
      "Task 21; Pearson Spearman Correlation: 0.3823 (+/- 0.1425)\n",
      "Task 22; Pearson Spearman Correlation: 0.6354 (+/- 0.1148)\n",
      "Task 23; Pearson Spearman Correlation: 0.5673 (+/- 0.0654)\n",
      "Task 24; Pearson Spearman Correlation: 0.4960 (+/- 0.1660)\n",
      "Task 28; Pearson Spearman Correlation: 0.5768 (+/- 0.1330)\n",
      "Task 29; Pearson Spearman Correlation: 0.7880 (+/- 0.1199)\n",
      "Task 31; Pearson Spearman Correlation: 0.5880 (+/- 0.0821)\n",
      "Task 32; Pearson Spearman Correlation: 0.3326 (+/- 0.1642)\n",
      "Task 36; Pearson Spearman Correlation: 0.5073 (+/- 0.1899)\n",
      "Task 37; Pearson Spearman Correlation: 0.7270 (+/- 0.1279)\n",
      "Task 41; Pearson Spearman Correlation: 0.6069 (+/- 0.1087)\n",
      "Task 43; Pearson Spearman Correlation: 0.6043 (+/- 0.0954)\n",
      "Task 45; Pearson Spearman Correlation: 0.6217 (+/- 0.1431)\n",
      "Task 49; Pearson Spearman Correlation: 0.4062 (+/- 0.0669)\n",
      "Task 53; Pearson Spearman Correlation: 0.3392 (+/- 0.0573)\n",
      "Task 58; Pearson Spearman Correlation: 0.7092 (+/- 0.1443)\n",
      "Task 219; Pearson Spearman Correlation: 0.2861 (+/- 0.2663)\n",
      "Task 2074; Pearson Spearman Correlation: 0.4323 (+/- 0.1030)\n",
      "Task 2079; Pearson Spearman Correlation: 0.2212 (+/- 0.2035)\n",
      "Task 3021; Pearson Spearman Correlation: 0.1998 (+/- 0.4012)\n",
      "Task 3022; Pearson Spearman Correlation: 0.6009 (+/- 0.1809)\n",
      "Task 3481; Pearson Spearman Correlation: 0.5406 (+/- 0.1512)\n",
      "Task 3485; Pearson Spearman Correlation: 0.2635 (+/- 0.2072)\n",
      "Task 3492; Pearson Spearman Correlation: 0.5219 (+/- 0.0903)\n",
      "Task 3493; Pearson Spearman Correlation: 0.4666 (+/- 0.1151)\n",
      "Task 3494; Pearson Spearman Correlation: 0.6362 (+/- 0.2280)\n",
      "Task 3510; Pearson Spearman Correlation: 0.1928 (+/- 0.0973)\n",
      "Task 3512; Pearson Spearman Correlation: 0.5082 (+/- 0.0760)\n",
      "Task 3543; Pearson Spearman Correlation: 0.4224 (+/- 0.0904)\n",
      "Task 3549; Pearson Spearman Correlation: 0.6698 (+/- 0.1708)\n",
      "Task 3560; Pearson Spearman Correlation: 0.5614 (+/- 0.1260)\n",
      "Task 3561; Pearson Spearman Correlation: 0.3001 (+/- 0.2107)\n",
      "Task 3567; Pearson Spearman Correlation: 0.6851 (+/- 0.1246)\n",
      "Task 3573; Pearson Spearman Correlation: 0.4032 (+/- 0.2101)\n",
      "Task 3889; Pearson Spearman Correlation: 0.4891 (+/- 0.1796)\n",
      "Task 3891; Pearson Spearman Correlation: 0.5057 (+/- 0.1227)\n",
      "Task 3896; Pearson Spearman Correlation: 0.7521 (+/- 0.1427)\n",
      "Task 3899; Pearson Spearman Correlation: 0.2178 (+/- 0.2584)\n",
      "Task 3902; Pearson Spearman Correlation: 0.4235 (+/- 0.1258)\n",
      "Task 3903; Pearson Spearman Correlation: 0.3403 (+/- 0.6122)\n",
      "Task 3904; Pearson Spearman Correlation: 0.3919 (+/- 0.0907)\n",
      "Task 3913; Pearson Spearman Correlation: 0.6799 (+/- 0.0682)\n",
      "Task 3917; Pearson Spearman Correlation: 0.5038 (+/- 0.1460)\n",
      "Task 3918; Pearson Spearman Correlation: 0.0606 (+/- 0.0687)\n",
      "Task 3946; Pearson Spearman Correlation: 0.5282 (+/- 0.3338)\n",
      "Task 3948; Pearson Spearman Correlation: 0.5265 (+/- 0.1183)\n",
      "Task 3954; Pearson Spearman Correlation: 0.2394 (+/- 0.2253)\n",
      "Task 7592; Pearson Spearman Correlation: 0.7419 (+/- 0.0790)\n",
      "Task 9914; Pearson Spearman Correlation: 0.4097 (+/- 0.2846)\n",
      "Task 9946; Pearson Spearman Correlation: 0.5120 (+/- 0.0741)\n",
      "Task 9950; Pearson Spearman Correlation: 0.7050 (+/- 0.0799)\n",
      "Task 9952; Pearson Spearman Correlation: 0.1561 (+/- 0.1649)\n",
      "Task 9954; Pearson Spearman Correlation: 0.6712 (+/- 0.1250)\n",
      "Task 9955; Pearson Spearman Correlation: 0.5458 (+/- 0.1312)\n",
      "Task 9956; Pearson Spearman Correlation: 0.6447 (+/- 0.1480)\n",
      "Task 9957; Pearson Spearman Correlation: 0.3882 (+/- 0.0771)\n",
      "Task 9960; Pearson Spearman Correlation: 0.1401 (+/- 0.1752)\n",
      "Task 9964; Pearson Spearman Correlation: 0.6871 (+/- 0.1070)\n",
      "Task 9967; Pearson Spearman Correlation: 0.3641 (+/- 0.1602)\n",
      "Task 9968; Pearson Spearman Correlation: 0.3619 (+/- 0.3285)\n",
      "Task 9970; Pearson Spearman Correlation: 0.5723 (+/- 0.2072)\n",
      "Task 9971; Pearson Spearman Correlation: 0.3628 (+/- 0.3421)\n",
      "Task 9976; Pearson Spearman Correlation: 0.4912 (+/- 0.1525)\n",
      "Task 9977; Pearson Spearman Correlation: 0.4650 (+/- 0.1696)\n",
      "Task 9978; Pearson Spearman Correlation: 0.0360 (+/- 0.0896)\n",
      "Task 9979; Pearson Spearman Correlation: 0.3868 (+/- 0.1138)\n",
      "Task 9980; Pearson Spearman Correlation: 0.2992 (+/- 0.5925)\n",
      "Task 9981; Pearson Spearman Correlation: 0.5984 (+/- 0.1232)\n",
      "Task 9983; Pearson Spearman Correlation: 0.3534 (+/- 0.2389)\n",
      "Task 9985; Pearson Spearman Correlation: 0.1877 (+/- 0.1186)\n",
      "Task 9986; Pearson Spearman Correlation: 0.2794 (+/- 0.1758)\n",
      "Task 10093; Pearson Spearman Correlation: 0.4003 (+/- 0.1744)\n",
      "Task 10101; Pearson Spearman Correlation: 0.4223 (+/- 0.1473)\n",
      "Task 14964; Pearson Spearman Correlation: 0.1882 (+/- 0.1745)\n",
      "Task 14965; Pearson Spearman Correlation: 0.4203 (+/- 0.4444)\n",
      "Task 14966; Pearson Spearman Correlation: 0.5161 (+/- 0.1289)\n",
      "Task 14967; Pearson Spearman Correlation: 0.3883 (+/- 0.0663)\n",
      "Task 14968; Pearson Spearman Correlation: 0.3638 (+/- 0.1511)\n",
      "Task 14969; Pearson Spearman Correlation: 0.3421 (+/- 0.1882)\n",
      "Task 14970; Pearson Spearman Correlation: 0.4698 (+/- 0.1318)\n",
      "Task 34536; Pearson Spearman Correlation: 0.7331 (+/- 0.0640)\n",
      "Task 34537; Pearson Spearman Correlation: 0.4626 (+/- 0.1240)\n",
      "Task 34538; Pearson Spearman Correlation: 0.4604 (+/- 0.0613)\n",
      "Task 34539; Pearson Spearman Correlation: 0.1116 (+/- 0.2319)\n",
      "Task 125920; Pearson Spearman Correlation: 0.3628 (+/- 0.2224)\n",
      "Task 125921; Pearson Spearman Correlation: 0.4814 (+/- 0.1436)\n",
      "Task 125922; Pearson Spearman Correlation: 0.2547 (+/- 0.2350)\n",
      "Task 125923; Pearson Spearman Correlation: 0.6539 (+/- 0.1734)\n",
      "Task 146195; Pearson Spearman Correlation: 0.6932 (+/- 0.1145)\n",
      "Task 146606; Pearson Spearman Correlation: 0.6104 (+/- 0.0406)\n",
      "Task 146607; Pearson Spearman Correlation: 0.3395 (+/- 0.2191)\n"
     ]
    }
   ],
   "source": [
    "s = surrogate()\n",
    "surrogate_scores = s.train_surrogate()"
   ]
  },
  {
   "cell_type": "code",
   "execution_count": 10,
   "metadata": {},
   "outputs": [],
   "source": [
    "# y = alpha * hyperparameter_1 ^ 2 + beta * hyperparameter_2 ^ 2 + gamma * hyperparameter_1 * hyperparameter_2 + delta\n",
    "# hyperparameter_1 = gamma\n",
    "# hyperparameter_2 = complexity (C)\n",
    "class simplified_surrogate:\n",
    "\n",
    "    def __init__(self, surrogate):\n",
    "        self.surrogate = surrogate\n",
    "        self.models = {}\n",
    "\n",
    "    def train_model(self):\n",
    "        pearson_scores = []\n",
    "        for task_id in self.surrogate.data_dict:\n",
    "            X, y, _ = self.surrogate.data_dict[task_id]\n",
    "            X = np.append(X ** 2, np.ones(X.shape), axis = 1)\n",
    "            model = LinearRegression()\n",
    "            model.fit(X, y)\n",
    "            self.models[task_id] = model\n",
    "            # y_hat = cross_val_predict(model, X, y, cv=5)\n",
    "            # score = pearsonr(y, y_hat)[0]\n",
    "            scores = cross_val_score(model, X, y, cv=5, scoring=make_scorer(self.surrogate.custom_scorer))\n",
    "            mean_score = scores.mean()\n",
    "            pearson_scores.append(mean_score)\n",
    "            # print(\"Task %d; Pearson Spearman Correlation: %f\" % (task_id, score))\n",
    "        return pearson_scores\n",
    "\n",
    "    def plot_curve(self, task_id):\n",
    "        X, y, _ = self.surrogate.data_dict[task_id]\n",
    "        model = self.models[task_id]\n",
    "        y_hat = model.predict(np.append(X, X ** 2, axis = 1))\n",
    "        plt.plot(y_hat, c=\"blue\")\n",
    "        plt.plot(y, c=\"red\")\n",
    "        plt.axis(\"equal\")"
   ]
  },
  {
   "cell_type": "code",
   "execution_count": 11,
   "metadata": {},
   "outputs": [],
   "source": [
    "s_ = simplified_surrogate(s)\n",
    "simplified_surrogate_scores = s_.train_model()"
   ]
  },
  {
   "cell_type": "code",
   "execution_count": 12,
   "metadata": {},
   "outputs": [
    {
     "data": {
      "image/png": "[encoded data removed]",
      "text/plain": [
       "<Figure size 432x288 with 1 Axes>"
      ]
     },
     "metadata": {},
     "output_type": "display_data"
    }
   ],
   "source": [
    "plt.plot(surrogate_scores, color=\"blue\", label=\"surrogate\")\n",
    "plt.plot(simplified_surrogate_scores, color=\"red\", label=\"simplified surrogate\")\n",
    "plt.legend()\n",
    "plt.show()"
   ]
  },
  {
   "cell_type": "code",
   "execution_count": 13,
   "metadata": {},
   "outputs": [],
   "source": [
    "def draw_plot(data, offset,edge_color, fill_color):\n",
    "    pos = np.arange(1) + offset \n",
    "    bp = ax.boxplot(data, positions= pos, widths=0.3, patch_artist=True, manage_xticks=False)\n",
    "    for element in ['boxes', 'whiskers', 'fliers', 'medians', 'caps']:\n",
    "        plt.setp(bp[element], color=edge_color)\n",
    "    for patch in bp['boxes']:\n",
    "        patch.set(facecolor=fill_color)"
   ]
  },
  {
   "cell_type": "code",
   "execution_count": 14,
   "metadata": {},
   "outputs": [
    {
     "data": {
      "image/png": "[encoded data removed]",
      "text/plain": [
       "<Figure size 432x288 with 1 Axes>"
      ]
     },
     "metadata": {},
     "output_type": "display_data"
    }
   ],
   "source": [
    "fig, ax = plt.subplots()\n",
    "draw_plot(surrogate_scores, -0.2, \"tomato\", \"white\")\n",
    "draw_plot(simplified_surrogate_scores, +0.2, \"skyblue\", \"white\")\n",
    "plt.show()\n",
    "plt.close()"
   ]
  },
  {
   "cell_type": "markdown",
   "metadata": {},
   "source": [
    "TODO<br>\n",
    "-> tune RF hyperparameters (no. of trees, no. of features per node)<br>\n",
    "-> use random search for tuning<br>\n",
    "-> sklearnbot openml - generating more data<br>\n",
    "-> Bernd Bischl, Carlos Soares<br>\n",
    "-> Expected median (~0.5-0.6)<br>"
   ]
  },
  {
   "cell_type": "code",
   "execution_count": 9,
   "metadata": {},
   "outputs": [
    {
     "data": {
      "text/plain": [
       "0.4657990991183397"
      ]
     },
     "execution_count": 9,
     "metadata": {},
     "output_type": "execute_result"
    }
   ],
   "source": [
    "np.median(surrogate_scores)"
   ]
  },
  {
   "cell_type": "code",
   "execution_count": null,
   "metadata": {},
   "outputs": [],
   "source": []
  }
 ],
 "metadata": {
  "kernelspec": {
   "display_name": "Python 3",
   "language": "python",
   "name": "python3"
  },
  "language_info": {
   "codemirror_mode": {
    "name": "ipython",
    "version": 3
   },
   "file_extension": ".py",
   "mimetype": "text/x-python",
   "name": "python",
   "nbconvert_exporter": "python",
   "pygments_lexer": "ipython3",
   "version": "3.6.5"
  }
 },
 "nbformat": 4,
 "nbformat_minor": 2
}
